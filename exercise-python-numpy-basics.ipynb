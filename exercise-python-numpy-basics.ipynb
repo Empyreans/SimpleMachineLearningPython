{
 "cells": [
  {
   "cell_type": "markdown",
   "metadata": {
    "slideshow": {
     "slide_type": "-"
    }
   },
   "source": [
    "# Python Numpy Basics"
   ]
  },
  {
   "cell_type": "markdown",
   "metadata": {
    "slideshow": {
     "slide_type": "-"
    }
   },
   "source": [
    "## Table of Contents\n",
    "* [Introduction](#Introduction)\n",
    "* [Requirements](#Requirements) \n",
    "  * [Knowledge](#Knowledge) \n",
    "  * [Modules](#Python-Modules)\n",
    "* [Exercises](#Exercises)\n",
    "* [Summary and Outlook](#Summary-and-Outlook)\n",
    "* [Literature](#Literature) \n",
    "* [Licenses](#Licenses)"
   ]
  },
  {
   "cell_type": "markdown",
   "metadata": {
    "slideshow": {
     "slide_type": "-"
    }
   },
   "source": [
    "## Introduction\n",
    "\n",
    "In this exercise you will learn numpy operations / features, which you will need throughout nearly all data science tasks, when working with python."
   ]
  },
  {
   "cell_type": "markdown",
   "metadata": {
    "slideshow": {
     "slide_type": "-"
    }
   },
   "source": [
    "## Requirements\n",
    "### Knowledge\n",
    "\n",
    "You should have a basic knowledge of:\n",
    "- numpy\n",
    "\n",
    "Suitable sources for acquiring this knowledge are:\n",
    "- [numpy quickstart](https://docs.scipy.org/doc/numpy-1.15.1/user/quickstart.html)\n",
    "- [numpy slicing](https://docs.scipy.org/doc/numpy/reference/arrays.indexing.html)"
   ]
  },
  {
   "cell_type": "markdown",
   "metadata": {
    "slideshow": {
     "slide_type": "-"
    }
   },
   "source": [
    "### Python Modules\n",
    "\n",
    "By [deep.TEACHING](https://www.deep-teaching.org/) convention, all python modules needed to run the notebook are loaded centrally at the beginning. \n"
   ]
  },
  {
   "cell_type": "code",
   "execution_count": 1,
   "metadata": {
    "slideshow": {
     "slide_type": "-"
    }
   },
   "outputs": [],
   "source": [
    "# External Modules\n",
    "import numpy as np"
   ]
  },
  {
   "cell_type": "markdown",
   "metadata": {
    "slideshow": {
     "slide_type": "-"
    }
   },
   "source": [
    "## Exercises"
   ]
  },
  {
   "cell_type": "markdown",
   "metadata": {},
   "source": [
    "**Task:**\n",
    "\n",
    "Generate a numpy-1D array of length 10, all elements being 0, except the 5th element which is 1"
   ]
  },
  {
   "cell_type": "code",
   "execution_count": 2,
   "metadata": {},
   "outputs": [
    {
     "data": {
      "text/plain": [
       "array([0., 0., 0., 0., 1., 0., 0., 0., 0., 0.])"
      ]
     },
     "execution_count": 2,
     "metadata": {},
     "output_type": "execute_result"
    }
   ],
   "source": [
    "### Your Solution\n",
    "z = np.zeros(10)\n",
    "z[4]=1\n",
    "z"
   ]
  },
  {
   "cell_type": "markdown",
   "metadata": {},
   "source": [
    "**Task:**\n",
    "\n",
    "Reverse the order of vector `z`: The first element becomes the last, the second becomes the second last etc."
   ]
  },
  {
   "cell_type": "code",
   "execution_count": 3,
   "metadata": {},
   "outputs": [],
   "source": [
    "z = np.arange(50)"
   ]
  },
  {
   "cell_type": "code",
   "execution_count": 4,
   "metadata": {},
   "outputs": [
    {
     "data": {
      "text/plain": [
       "array([49, 48, 47, 46, 45, 44, 43, 42, 41, 40, 39, 38, 37, 36, 35, 34, 33,\n",
       "       32, 31, 30, 29, 28, 27, 26, 25, 24, 23, 22, 21, 20, 19, 18, 17, 16,\n",
       "       15, 14, 13, 12, 11, 10,  9,  8,  7,  6,  5,  4,  3,  2,  1,  0])"
      ]
     },
     "execution_count": 4,
     "metadata": {},
     "output_type": "execute_result"
    }
   ],
   "source": [
    "### Your Solution\n",
    "z[::-1]"
   ]
  },
  {
   "cell_type": "markdown",
   "metadata": {},
   "source": [
    "**Task:**\n",
    "\n",
    "Find the indices of all elements that are nonzero."
   ]
  },
  {
   "cell_type": "code",
   "execution_count": 5,
   "metadata": {},
   "outputs": [],
   "source": [
    "z = np.array([1,2,0,0,4,0])"
   ]
  },
  {
   "cell_type": "code",
   "execution_count": 6,
   "metadata": {},
   "outputs": [
    {
     "data": {
      "text/plain": [
       "(array([0, 1, 4]),)"
      ]
     },
     "execution_count": 6,
     "metadata": {},
     "output_type": "execute_result"
    }
   ],
   "source": [
    "### Your Solution\n",
    "np.where(z != 0)"
   ]
  },
  {
   "cell_type": "markdown",
   "metadata": {},
   "source": [
    "**Task:**\n",
    "\n",
    "Generate a 10x10 array with random values and find the smallest and largest value."
   ]
  },
  {
   "cell_type": "code",
   "execution_count": 7,
   "metadata": {},
   "outputs": [
    {
     "name": "stdout",
     "output_type": "stream",
     "text": [
      "0.18300492099275312\n",
      "9.744848553707032\n"
     ]
    }
   ],
   "source": [
    "### Your Solution\n",
    "# generate array\n",
    "a = np.random.rand(10, 10) * 10\n",
    "\n",
    "# find smallest value\n",
    "print(np.amin(a))\n",
    "\n",
    "# find largest value\n",
    "print(np.amax(a))"
   ]
  },
  {
   "cell_type": "markdown",
   "metadata": {},
   "source": [
    "**Task:**\n",
    "\n",
    "Generate a vector of length 50 with random values and calculate the mean."
   ]
  },
  {
   "cell_type": "code",
   "execution_count": 8,
   "metadata": {},
   "outputs": [
    {
     "name": "stdout",
     "output_type": "stream",
     "text": [
      "[[0.3228469 ]\n",
      " [0.72890759]\n",
      " [0.19472771]\n",
      " [0.28691566]\n",
      " [0.02991889]]\n",
      "[0.31266335]\n"
     ]
    }
   ],
   "source": [
    "### Your Solution\n",
    "a = np.random.rand(5,1)\n",
    "print(a)\n",
    "print(np.mean(a, axis=0))"
   ]
  },
  {
   "cell_type": "markdown",
   "metadata": {},
   "source": [
    "**Task:**\n",
    "\n",
    "\n",
    "Explain the following results:"
   ]
  },
  {
   "cell_type": "code",
   "execution_count": 9,
   "metadata": {},
   "outputs": [
    {
     "name": "stdout",
     "output_type": "stream",
     "text": [
      "nan\n",
      "nan\n",
      "True\n",
      "False\n",
      "False\n",
      "False\n",
      "False\n"
     ]
    }
   ],
   "source": [
    "# jede Rechnung mit nan wird zu nan\n",
    "print(0 * np.nan) \n",
    "print(np.nan - np.nan)\n",
    "\n",
    "# is : vergleicht Objekt\n",
    "# == : vergleicht Wert\n",
    "print(np.nan is np.nan)\n",
    "\n",
    "# Numpy.nan orientiert sich an IEEE-743 Spezifikation.\n",
    "# https://stackoverflow.com/questions/1565164/what-is-the-rationale-for-all-comparisons-returning-false-for-ieee754-nan-values\n",
    "print(np.nan == np.nan)\n",
    "print(np.inf < np.nan)\n",
    "print(np.inf > np.nan)\n",
    "\n",
    "print(0.3 == 3 * 0.1) # How can you fix this?\n",
    "# quantization, roundoff fehler -> ceiling\n",
    "# https://docs.python.org/2/library/decimal.html\n",
    "#https://kfolds.com/rounding-in-python-when-arithmetic-isnt-quite-right-11a79a30390a"
   ]
  },
  {
   "cell_type": "markdown",
   "metadata": {},
   "source": [
    "**Task:**\n",
    "\n",
    "Generate an 8x8 matrix and fill it with a chess pattern like:\n",
    "\n",
    "`\n",
    "array([[1., 0., 1., 0., 1., 0., 1., 0.],\n",
    "       [0., 1., 0., 1., 0., 1., 0., 1.],\n",
    "       [1., 0., 1., 0., 1., 0., 1., 0.],\n",
    "       [0., 1., 0., 1., 0., 1., 0., 1.],\n",
    "       [1., 0., 1., 0., 1., 0., 1., 0.],\n",
    "       [0., 1., 0., 1., 0., 1., 0., 1.],\n",
    "       [1., 0., 1., 0., 1., 0., 1., 0.],\n",
    "       [0., 1., 0., 1., 0., 1., 0., 1.]])\n",
    "`"
   ]
  },
  {
   "cell_type": "code",
   "execution_count": 10,
   "metadata": {},
   "outputs": [
    {
     "data": {
      "text/plain": [
       "array([[1., 0., 1., 0., 1., 0., 1., 0.],\n",
       "       [0., 0., 0., 0., 0., 0., 0., 0.],\n",
       "       [1., 0., 1., 0., 1., 0., 1., 0.],\n",
       "       [0., 0., 0., 0., 0., 0., 0., 0.],\n",
       "       [1., 0., 1., 0., 1., 0., 1., 0.],\n",
       "       [0., 0., 0., 0., 0., 0., 0., 0.],\n",
       "       [1., 0., 1., 0., 1., 0., 1., 0.],\n",
       "       [0., 0., 0., 0., 0., 0., 0., 0.]])"
      ]
     },
     "execution_count": 10,
     "metadata": {},
     "output_type": "execute_result"
    }
   ],
   "source": [
    "### Your Solution\n",
    "a = np.zeros((8, 8))\n",
    "a[::2,::2] = 1\n",
    "a[1::2,1::2] = 0\n",
    "a"
   ]
  },
  {
   "cell_type": "markdown",
   "metadata": {},
   "source": [
    "**Task:**\n",
    "\n",
    "Generate a random 5x5 matrix and normalize (scale it by a factor) it. That means, the smallest value should become 0.0, the largest 1.0\n"
   ]
  },
  {
   "cell_type": "code",
   "execution_count": 11,
   "metadata": {},
   "outputs": [
    {
     "data": {
      "text/plain": [
       "array([[0.63919676, 0.23936569, 0.36151427, 0.24696555, 0.54751507],\n",
       "       [0.60333555, 0.72628687, 1.        , 0.73673501, 0.7199664 ],\n",
       "       [0.        , 0.40152258, 0.42209494, 0.98931771, 0.81565796],\n",
       "       [0.20393398, 0.23557185, 0.13325762, 0.0080473 , 0.99157568],\n",
       "       [0.89051998, 0.9223086 , 0.85271151, 0.77212133, 0.85725104]])"
      ]
     },
     "execution_count": 11,
     "metadata": {},
     "output_type": "execute_result"
    }
   ],
   "source": [
    "### Your Solution\n",
    "a = np.random.random((5, 5))\n",
    "a = (a - a.min())/(a.max() - a.min())\n",
    "a"
   ]
  },
  {
   "cell_type": "markdown",
   "metadata": {},
   "source": [
    "**Task:**\n",
    "\n",
    "From each row, subtract the maximum value of that row."
   ]
  },
  {
   "cell_type": "code",
   "execution_count": 12,
   "metadata": {},
   "outputs": [
    {
     "data": {
      "text/plain": [
       "array([[ 0,  1,  2,  3],\n",
       "       [ 4,  5,  6,  7],\n",
       "       [ 8,  9, 10, 11]])"
      ]
     },
     "execution_count": 12,
     "metadata": {},
     "output_type": "execute_result"
    }
   ],
   "source": [
    "z = np.arange(12).reshape((3,4))\n",
    "z"
   ]
  },
  {
   "cell_type": "code",
   "execution_count": 13,
   "metadata": {},
   "outputs": [
    {
     "data": {
      "text/plain": [
       "array([[-3, -2, -1,  0],\n",
       "       [-3, -2, -1,  0],\n",
       "       [-3, -2, -1,  0]])"
      ]
     },
     "execution_count": 13,
     "metadata": {},
     "output_type": "execute_result"
    }
   ],
   "source": [
    "### Your Solution\n",
    "x = []\n",
    "\n",
    "for row in z:\n",
    "    row = row - np.max(row)\n",
    "    x.append(row)\n",
    "\n",
    "x = np.array(x)\n",
    "x"
   ]
  },
  {
   "cell_type": "markdown",
   "metadata": {},
   "source": [
    "**Task:**\n",
    "    \n",
    "Divide each column by the sum of that column. Then verify that each column adds up to 1."
   ]
  },
  {
   "cell_type": "code",
   "execution_count": 14,
   "metadata": {},
   "outputs": [
    {
     "data": {
      "text/plain": [
       "array([[ 0,  1,  2,  3],\n",
       "       [ 4,  5,  6,  7],\n",
       "       [ 8,  9, 10, 11]])"
      ]
     },
     "execution_count": 14,
     "metadata": {},
     "output_type": "execute_result"
    }
   ],
   "source": [
    "z = np.arange(12).reshape((3,4))\n",
    "z"
   ]
  },
  {
   "cell_type": "code",
   "execution_count": 15,
   "metadata": {
    "scrolled": true
   },
   "outputs": [
    {
     "data": {
      "text/plain": [
       "array([1., 1., 1., 1.])"
      ]
     },
     "execution_count": 15,
     "metadata": {},
     "output_type": "execute_result"
    }
   ],
   "source": [
    "### Your Solution\n",
    "(z / z.sum(axis=0, keepdims=True)).sum(axis=0)"
   ]
  },
  {
   "cell_type": "markdown",
   "metadata": {},
   "source": [
    "**Task:**\n",
    "\n",
    "Negate (multiply with -1) all elements between 3 and 8 in place."
   ]
  },
  {
   "cell_type": "code",
   "execution_count": 16,
   "metadata": {},
   "outputs": [
    {
     "data": {
      "text/plain": [
       "array([ 0,  1,  2,  3,  4,  5,  6,  7,  8,  9, 10])"
      ]
     },
     "execution_count": 16,
     "metadata": {},
     "output_type": "execute_result"
    }
   ],
   "source": [
    "Z = np.arange(11)\n",
    "Z"
   ]
  },
  {
   "cell_type": "code",
   "execution_count": 17,
   "metadata": {},
   "outputs": [
    {
     "name": "stdout",
     "output_type": "stream",
     "text": [
      "[ 0  1  2  3 -4 -5 -6 -7  8  9 10]\n"
     ]
    }
   ],
   "source": [
    "### Your Solution\n",
    "Z[4:8] = Z[4:8]*-1\n",
    "print(Z)"
   ]
  },
  {
   "cell_type": "markdown",
   "metadata": {},
   "source": [
    "**Task:**\n",
    "\n",
    "Explain the result (output) of the following code:"
   ]
  },
  {
   "cell_type": "code",
   "execution_count": 18,
   "metadata": {},
   "outputs": [
    {
     "name": "stdout",
     "output_type": "stream",
     "text": [
      "9\n",
      "10\n"
     ]
    }
   ],
   "source": [
    "### Your Solution\n",
    "print(sum(range(5),-1)) #python sum: 0+1+2+3+4+(-1)\n",
    "from numpy import * # numpy sum on axis -1\n",
    "print(sum(range(5), -1)) \n",
    "del sum"
   ]
  },
  {
   "cell_type": "markdown",
   "metadata": {},
   "source": [
    "**Task:**\n",
    "\n",
    "Generate a random vector of length 100 and sort it."
   ]
  },
  {
   "cell_type": "code",
   "execution_count": 19,
   "metadata": {},
   "outputs": [
    {
     "data": {
      "text/plain": [
       "array([[0.01425879],\n",
       "       [0.01552582],\n",
       "       [0.01960113],\n",
       "       [0.02971494],\n",
       "       [0.03346639],\n",
       "       [0.04088032],\n",
       "       [0.04676531],\n",
       "       [0.06111647],\n",
       "       [0.0882349 ],\n",
       "       [0.089254  ],\n",
       "       [0.08996633],\n",
       "       [0.11752405],\n",
       "       [0.13581991],\n",
       "       [0.14747795],\n",
       "       [0.16640459],\n",
       "       [0.1676481 ],\n",
       "       [0.18680182],\n",
       "       [0.20282426],\n",
       "       [0.23437016],\n",
       "       [0.23721173],\n",
       "       [0.24622657],\n",
       "       [0.27029053],\n",
       "       [0.2755087 ],\n",
       "       [0.27666505],\n",
       "       [0.28807608],\n",
       "       [0.29388461],\n",
       "       [0.31632476],\n",
       "       [0.31783851],\n",
       "       [0.31978722],\n",
       "       [0.33037792],\n",
       "       [0.34175307],\n",
       "       [0.36962145],\n",
       "       [0.37947499],\n",
       "       [0.3855955 ],\n",
       "       [0.39037286],\n",
       "       [0.39101469],\n",
       "       [0.39927646],\n",
       "       [0.40368824],\n",
       "       [0.41523449],\n",
       "       [0.41712677],\n",
       "       [0.42101506],\n",
       "       [0.42353878],\n",
       "       [0.43008432],\n",
       "       [0.46206906],\n",
       "       [0.47361622],\n",
       "       [0.48884964],\n",
       "       [0.5059099 ],\n",
       "       [0.54416217],\n",
       "       [0.54437851],\n",
       "       [0.5560192 ],\n",
       "       [0.55679324],\n",
       "       [0.56324621],\n",
       "       [0.56947866],\n",
       "       [0.57213133],\n",
       "       [0.60304033],\n",
       "       [0.60984815],\n",
       "       [0.62682394],\n",
       "       [0.63409348],\n",
       "       [0.63427989],\n",
       "       [0.63889311],\n",
       "       [0.63962823],\n",
       "       [0.64554302],\n",
       "       [0.66161688],\n",
       "       [0.662274  ],\n",
       "       [0.67346323],\n",
       "       [0.67443359],\n",
       "       [0.68093261],\n",
       "       [0.70039566],\n",
       "       [0.70903783],\n",
       "       [0.74318261],\n",
       "       [0.74610322],\n",
       "       [0.74789106],\n",
       "       [0.77473153],\n",
       "       [0.7911933 ],\n",
       "       [0.79862216],\n",
       "       [0.80859958],\n",
       "       [0.8210669 ],\n",
       "       [0.8271056 ],\n",
       "       [0.83859497],\n",
       "       [0.85392395],\n",
       "       [0.85571931],\n",
       "       [0.85621733],\n",
       "       [0.88008269],\n",
       "       [0.88396216],\n",
       "       [0.89111429],\n",
       "       [0.89270148],\n",
       "       [0.90025603],\n",
       "       [0.90246419],\n",
       "       [0.92131407],\n",
       "       [0.92215758],\n",
       "       [0.92573636],\n",
       "       [0.93700306],\n",
       "       [0.93894452],\n",
       "       [0.9519804 ],\n",
       "       [0.95474158],\n",
       "       [0.98176492],\n",
       "       [0.98239656],\n",
       "       [0.99199309],\n",
       "       [0.99565959],\n",
       "       [0.99771885]])"
      ]
     },
     "execution_count": 19,
     "metadata": {},
     "output_type": "execute_result"
    }
   ],
   "source": [
    "### Your Solution\n",
    "\n",
    "np.sort(np.random.rand(100,1), 0)"
   ]
  },
  {
   "cell_type": "markdown",
   "metadata": {},
   "source": [
    "**Task:**\n",
    "\n",
    "Check if two arrays are equal:\n",
    "\n",
    "    1. All elements should be exactly the same\n",
    "    2. Equality within a tolerance"
   ]
  },
  {
   "cell_type": "code",
   "execution_count": 20,
   "metadata": {},
   "outputs": [
    {
     "name": "stdout",
     "output_type": "stream",
     "text": [
      "[[0.41738897 0.60801041 0.61518799 0.39577491]\n",
      " [0.45509625 0.05398643 0.46364449 0.28894303]\n",
      " [0.53146943 0.65673956 0.5107184  0.89303627]]\n",
      "no tolerance:\n",
      "[[ True  True  True  True]\n",
      " [ True  True False  True]\n",
      " [ True  True  True  True]]\n",
      "tolerance:\n",
      "[[ True  True  True  True]\n",
      " [ True  True  True  True]\n",
      " [ True  True  True  True]]\n"
     ]
    }
   ],
   "source": [
    "### Your Solution\n",
    "A = np.random.random((3,4))\n",
    "B = A.copy()\n",
    "B[1,2] = A[1,2] * 1.00000000000001\n",
    "print (A)\n",
    "\n",
    "print (\"no tolerance:\")\n",
    "print(B == A)\n",
    "\n",
    "print (\"tolerance:\")\n",
    "print(np.isclose(A, B))"
   ]
  },
  {
   "cell_type": "markdown",
   "metadata": {},
   "source": [
    "**Task:**\n",
    "\n",
    "Generate (as little code as possible) the following matrix with `np.array` and save it as the variable `arr`.\n",
    "\n",
    "\\begin{bmatrix}\n",
    "1 & 1 & 1 &1  &1 \\\\ \n",
    "1 & 2 & 1 & 1 & 1\\\\ \n",
    "1 & 1 & 3 & 1 & 1\\\\ \n",
    "1 &1  & 1 & 4 & 1\n",
    "\\end{bmatrix}\n",
    "\n",
    "And calculate:\n",
    "- the sum of each line\n",
    "- the sum of each row"
   ]
  },
  {
   "cell_type": "code",
   "execution_count": 25,
   "metadata": {},
   "outputs": [
    {
     "data": {
      "text/plain": [
       "array([[1., 1., 1., 1., 1.],\n",
       "       [1., 1., 1., 1., 1.],\n",
       "       [1., 1., 1., 1., 1.],\n",
       "       [1., 1., 1., 1., 1.]])"
      ]
     },
     "execution_count": 25,
     "metadata": {},
     "output_type": "execute_result"
    }
   ],
   "source": [
    "arr = np.ones([4,5])\n",
    "arr"
   ]
  },
  {
   "cell_type": "code",
   "execution_count": 26,
   "metadata": {},
   "outputs": [
    {
     "name": "stdout",
     "output_type": "stream",
     "text": [
      "[[1. 1. 1. 1. 1.]\n",
      " [1. 2. 1. 1. 1.]\n",
      " [1. 1. 3. 1. 1.]\n",
      " [1. 1. 1. 4. 1.]]\n",
      "column:\n",
      "[4. 5. 6. 7. 4.]\n",
      "row:\n",
      "[[5.]\n",
      " [6.]\n",
      " [7.]\n",
      " [8.]]\n"
     ]
    }
   ],
   "source": [
    "### Your Solution\n",
    "\n",
    "for i in np.arange(1,4):\n",
    "    arr[i,i] = i+1\n",
    "\n",
    "print(arr)\n",
    "print(\"column:\") \n",
    "print(np.sum(arr, 0))\n",
    "print(\"row:\") \n",
    "print(np.sum(arr, 1).reshape(4,1))"
   ]
  },
  {
   "cell_type": "markdown",
   "metadata": {},
   "source": [
    "**Task:**\n",
    "\n",
    "Generate a 2x2 matrix from `arr`: It shall consist of the 4 values when taking the values of the 2nd and 4th column of arr and the even rows.\n",
    "\n",
    "Use different methods:\n",
    "(see http://docs.scipy.org/doc/numpy/reference/arrays.indexing.html)\n",
    "- integer array indexes\n",
    "- slices\n",
    "- boolean arrays\n"
   ]
  },
  {
   "cell_type": "code",
   "execution_count": 23,
   "metadata": {},
   "outputs": [
    {
     "name": "stdout",
     "output_type": "stream",
     "text": [
      "[[2. 1.]\n",
      " [1. 1.]]\n",
      "[[2. 1.]\n",
      " [1. 1.]]\n"
     ]
    }
   ],
   "source": [
    "### Your Solution\n",
    "# interger indexing\n",
    "arr1 = np.array([[1,1],\n",
    "                 [1,2]])\n",
    "\n",
    "arr2 = np.array([[1,3],\n",
    "                 [2,3]])\n",
    "\n",
    "arr3 = arr[arr1,arr2]\n",
    "print(arr3)\n",
    "\n",
    "# slices\n",
    "arr1 = arr[[1,2],1::2]\n",
    "print(arr1)\n",
    "\n",
    "# für boolean nicht geeignet, macht keinen Sinn numerische Anforderungen\n",
    "# durch boolsche Abfragen anzufordern"
   ]
  },
  {
   "cell_type": "markdown",
   "metadata": {},
   "source": [
    "**Task:**\n",
    "\n",
    "(see http://docs.scipy.org/doc/numpy-1.10.1/user/basics.broadcasting.html)\n",
    "\n",
    "Explain the following operations on `arr`"
   ]
  },
  {
   "cell_type": "code",
   "execution_count": 30,
   "metadata": {},
   "outputs": [
    {
     "name": "stdout",
     "output_type": "stream",
     "text": [
      "[[1. 1. 1. 1. 1.]\n",
      " [1. 2. 1. 1. 1.]\n",
      " [1. 1. 3. 1. 1.]\n",
      " [1. 1. 1. 4. 1.]]\n",
      "--------1-------\n",
      "[[ 5.  5.  5.  5.  5.]\n",
      " [ 5. 10.  5.  5.  5.]\n",
      " [ 5.  5. 15.  5.  5.]\n",
      " [ 5.  5.  5. 20.  5.]]\n",
      "--------2-------\n",
      "5\n",
      "[0 1 2 3 4]\n",
      "[[ 0.  1.  2.  3.  4.]\n",
      " [ 0.  2.  2.  3.  4.]\n",
      " [ 0.  1.  6.  3.  4.]\n",
      " [ 0.  1.  2. 12.  4.]]\n",
      "--------3------\n",
      "4\n",
      "[[1. 1. 1. 1.]\n",
      " [1. 2. 1. 1.]\n",
      " [1. 1. 3. 1.]\n",
      " [1. 1. 1. 4.]\n",
      " [1. 1. 1. 1.]]\n",
      "[[ 0.  1.  2.  3.]\n",
      " [ 0.  2.  2.  3.]\n",
      " [ 0.  1.  6.  3.]\n",
      " [ 0.  1.  2. 12.]\n",
      " [ 0.  1.  2.  3.]]\n",
      "--------4-------\n"
     ]
    },
    {
     "ename": "ValueError",
     "evalue": "operands could not be broadcast together with shapes (4,5) (4,) ",
     "output_type": "error",
     "traceback": [
      "\u001b[0;31m---------------------------------------------------------------------------\u001b[0m",
      "\u001b[0;31mValueError\u001b[0m                                Traceback (most recent call last)",
      "\u001b[0;32m<ipython-input-30-e2115e66b313>\u001b[0m in \u001b[0;36m<module>\u001b[0;34m()\u001b[0m\n\u001b[1;32m     11\u001b[0m \u001b[0mprint\u001b[0m\u001b[0;34m(\u001b[0m\u001b[0marr\u001b[0m\u001b[0;34m.\u001b[0m\u001b[0mT\u001b[0m \u001b[0;34m*\u001b[0m \u001b[0mnp\u001b[0m\u001b[0;34m.\u001b[0m\u001b[0marange\u001b[0m\u001b[0;34m(\u001b[0m\u001b[0marr\u001b[0m\u001b[0;34m.\u001b[0m\u001b[0mshape\u001b[0m\u001b[0;34m[\u001b[0m\u001b[0;36m0\u001b[0m\u001b[0;34m]\u001b[0m\u001b[0;34m)\u001b[0m\u001b[0;34m)\u001b[0m \u001b[0;31m# transponiert hat arr 4 Spalten =\u001b[0m\u001b[0;34m\u001b[0m\u001b[0m\n\u001b[1;32m     12\u001b[0m \u001b[0mprint\u001b[0m\u001b[0;34m(\u001b[0m\u001b[0;34m'--------4-------'\u001b[0m\u001b[0;34m)\u001b[0m\u001b[0;34m\u001b[0m\u001b[0m\n\u001b[0;32m---> 13\u001b[0;31m \u001b[0mprint\u001b[0m\u001b[0;34m(\u001b[0m\u001b[0marr\u001b[0m \u001b[0;34m*\u001b[0m \u001b[0mnp\u001b[0m\u001b[0;34m.\u001b[0m\u001b[0marange\u001b[0m\u001b[0;34m(\u001b[0m\u001b[0marr\u001b[0m\u001b[0;34m.\u001b[0m\u001b[0mshape\u001b[0m\u001b[0;34m[\u001b[0m\u001b[0;36m0\u001b[0m\u001b[0;34m]\u001b[0m\u001b[0;34m)\u001b[0m\u001b[0;34m)\u001b[0m\u001b[0;34m\u001b[0m\u001b[0m\n\u001b[0m",
      "\u001b[0;31mValueError\u001b[0m: operands could not be broadcast together with shapes (4,5) (4,) "
     ]
    }
   ],
   "source": [
    "print(arr)\n",
    "print('--------1-------')\n",
    "print(arr * 5.) # multipliziert jeden Wert mit Skalar\n",
    "print('--------2-------')\n",
    "print(arr.shape[1])\n",
    "print(np.arange(arr.shape[1])) # Spaltenanzahl (Dimension = 1) von arr indiziert\n",
    "print(arr * np.arange(arr.shape[1])) # die Werte jeder Spalte werden mit den zuvor erstellten Indizes multipliziert\n",
    "print('--------3------')\n",
    "print(arr.shape[0])\n",
    "print(arr.T)\n",
    "print(arr.T * np.arange(arr.shape[0])) # auch hier Spaltenanzahl gleich \n",
    "print('--------4-------')\n",
    "print(arr * np.arange(arr.shape[0])) # Spaltenanzahl verschieden, kein Broadcasting möglich"
   ]
  },
  {
   "cell_type": "markdown",
   "metadata": {},
   "source": [
    "**Task:**\n",
    "\n",
    "Calculate the matrix-vector product (dot product) of `arr` and $v$:\n",
    "\n",
    "with:\n",
    "\n",
    "$\n",
    "v = (1,2,3,4,5)^T\n",
    "$"
   ]
  },
  {
   "cell_type": "code",
   "execution_count": 45,
   "metadata": {},
   "outputs": [
    {
     "name": "stdout",
     "output_type": "stream",
     "text": [
      "[1 2 3 4 5]\n",
      "(5,)\n",
      "[[1. 1. 1. 1. 1.]\n",
      " [1. 2. 1. 1. 1.]\n",
      " [1. 1. 3. 1. 1.]\n",
      " [1. 1. 1. 4. 1.]]\n",
      "(4, 5)\n",
      "[15. 17. 21. 27.]\n"
     ]
    }
   ],
   "source": [
    "### Your Solution\n",
    "v = np.arange(1,6)\n",
    "print(v)\n",
    "print(v.shape)\n",
    "print(arr)\n",
    "print(arr.shape)\n",
    "\n",
    "s = arr @ v\n",
    "\n",
    "print(s)"
   ]
  },
  {
   "cell_type": "markdown",
   "metadata": {
    "slideshow": {
     "slide_type": "-"
    }
   },
   "source": [
    "## Summary and Outlook\n",
    "\n",
    "In this notebook you've picked up many of the essential numpy operations for maths and data science tasks.\n",
    "\n",
    "The more you use the numpy library, the more of its functionality you'll discover and its usage will grow more intuitive and familiar."
   ]
  },
  {
   "cell_type": "markdown",
   "metadata": {
    "slideshow": {
     "slide_type": "-"
    }
   },
   "source": [
    "## Licenses\n",
    "\n",
    "### Notebook License (CC-BY-SA 4.0)\n",
    "\n",
    "*The following license applies to the complete notebook, including code cells. It does however not apply to any referenced external media (e.g., images).*\n",
    "\n",
    "Exercise: Python Numpy Basics <br/>\n",
    "by Klaus Strohmenger <br/>\n",
    "is licensed under a [Creative Commons Attribution-ShareAlike 4.0 International License](http://creativecommons.org/licenses/by-sa/4.0/).<br/>\n",
    "Based on a work at https://gitlab.com/deep.TEACHING.\n",
    "\n",
    "\n",
    "### Code License (MIT)\n",
    "\n",
    "*The following license only applies to code cells of the notebook.*\n",
    "\n",
    "Copyright 2019 Klaus Strohmenger\n",
    "\n",
    "Permission is hereby granted, free of charge, to any person obtaining a copy of this software and associated documentation files (the \"Software\"), to deal in the Software without restriction, including without limitation the rights to use, copy, modify, merge, publish, distribute, sublicense, and/or sell copies of the Software, and to permit persons to whom the Software is furnished to do so, subject to the following conditions:\n",
    "\n",
    "The above copyright notice and this permission notice shall be included in all copies or substantial portions of the Software.\n",
    "\n",
    "THE SOFTWARE IS PROVIDED \"AS IS\", WITHOUT WARRANTY OF ANY KIND, EXPRESS OR IMPLIED, INCLUDING BUT NOT LIMITED TO THE WARRANTIES OF MERCHANTABILITY, FITNESS FOR A PARTICULAR PURPOSE AND NONINFRINGEMENT. IN NO EVENT SHALL THE AUTHORS OR COPYRIGHT HOLDERS BE LIABLE FOR ANY CLAIM, DAMAGES OR OTHER LIABILITY, WHETHER IN AN ACTION OF CONTRACT, TORT OR OTHERWISE, ARISING FROM, OUT OF OR IN CONNECTION WITH THE SOFTWARE OR THE USE OR OTHER DEALINGS IN THE SOFTWARE."
   ]
  }
 ],
 "metadata": {
  "celltoolbar": "Slideshow",
  "kernelspec": {
   "display_name": "Python 3",
   "language": "python",
   "name": "python3"
  },
  "language_info": {
   "codemirror_mode": {
    "name": "ipython",
    "version": 3
   },
   "file_extension": ".py",
   "mimetype": "text/x-python",
   "name": "python",
   "nbconvert_exporter": "python",
   "pygments_lexer": "ipython3",
   "version": "3.7.0"
  }
 },
 "nbformat": 4,
 "nbformat_minor": 2
}
